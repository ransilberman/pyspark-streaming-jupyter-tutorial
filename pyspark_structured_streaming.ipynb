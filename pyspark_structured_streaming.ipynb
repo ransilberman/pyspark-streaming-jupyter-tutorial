{
 "cells": [
  {
   "cell_type": "code",
   "execution_count": 1,
   "id": "fe9fd1c0-db30-47b1-bbe2-0b1cbd97a9e2",
   "metadata": {},
   "outputs": [],
   "source": [
    "# Set the PySpark environment variables\n",
    "import os\n",
    "# Note! Change the SPARK_HOME value to your real pyspark location\n",
    "os.environ['SPARK_HOME'] = \"your_pyspark_home\"\n",
    "os.environ['PYSPARK_DRIVER_PYTHON'] = 'jupyter'\n",
    "os.environ['PYSPARK_DRIVER_PYTHON_OPTS'] = 'lab'\n",
    "os.environ['PYSPARK_PYTHON'] = 'python'\n\n",
    "# Note! Update PYSPARK_SUBMIT_ARGS value with your pyspark version. in the line below it is \"3.5.4\" \n",
    "os.environ['PYSPARK_SUBMIT_ARGS'] = '--packages org.apache.spark:spark-sql-kafka-0-10_2.12:3.5.4 pyspark-shell'\n",
    "URL = 'https://stream.wikimedia.org/v2/stream/recentchange'\n",
    "\n",
    "KAFKA_BROKER_URL = \"localhost:9092\"\n",
    "KAFKA_TOPIC = \"wikimedia_topic_1\"\n"
   ]
  },
  {
   "cell_type": "code",
   "execution_count": 2,
   "id": "4a915758-1498-4831-820b-a44fd888e87b",
   "metadata": {},
   "outputs": [],
   "source": [
       "import json\n",
       "import pyspark\n",
       "import socket\n",
       "import threading\n",
       "import time\n",
       "from kafka import KafkaConsumer\n",
       "from kafka import KafkaProducer\n",
       "from pyspark.sql import SparkSession\n",
       "from pyspark.sql.functions import col, from_json, expr\n",
       "from pyspark.sql.types import StructType, StringType, IntegerType\n",
       "from pyspark.streaming import StreamingContext\n",
       "from sseclient import SSEClient\n\n",
"producer = KafkaProducer(\n",
"    bootstrap_servers=KAFKA_BROKER_URL,\n",
"    # value_serializer=lambda v: json.dumps(v).encode('utf-8')\n",
")\n",
"\n",
"def relay():\n",
"    events = SSEClient(URL)\n",
"    for i in range(3):\n",
"        for event in events:\n",
"            if event.event == 'message' and event.data != None:\n",
"                message = event.data.encode(\"utf-8\")\n",
"                producer.send(KAFKA_TOPIC, value=message)\n",
"                break\n",
"\n",
"threading.Thread(target=relay).start()\n"
   ]
  },
  {
   "cell_type": "code",
   "execution_count": 3,
   "id": "bb53020b-1e79-4893-a13a-4968fa120fa3",
   "metadata": {},
   "outputs": [
    {
     "name": "stderr",
     "output_type": "stream",
     "text": [
      "Setting default log level to \"WARN\".\n",
      "To adjust logging level use sc.setLogLevel(newLevel). For SparkR, use setLogLevel(newLevel).\n",
      "23/06/25 21:26:04 WARN NativeCodeLoader: Unable to load native-hadoop library for your platform... using builtin-java classes where applicable\n",
      "\n",
      "Ivy Default Cache set to: /Users/ran/.ivy2/cache\n",
      "The jars for the packages stored in: /Users/ran/.ivy2/jars\n",
      "org.apache.spark#spark-sql-kafka-0-10_2.12 added as a dependency\n",
      ":: resolving dependencies :: org.apache.spark#spark-submit-parent-2825657f-aa62-4284-821e-51926ddd2ead;1.0\n"
     ]
    }
   ],
   "source": [
    "# Create a SparkSession\n",
    "spark = SparkSession.builder \\\n",
    "    .appName(\"PySpark-jupyter-streaming\") \\\n",
    "    .config(\"spark.sql.streaming.checkpointLocation\", \"./checkpoint\") \\\n",
    "    .getOrCreate()"
   ]
  },
  {
   "cell_type": "code",
   "execution_count": 4,
   "id": "dde43975-a1f5-4ad1-88a3-76eb84215f2b",
   "metadata": {},
   "outputs": [],
   "source": [
    "# Read kafka-stream into Spark\n",
    "# Read \"earliest\" to obtain from the beginning of topic.\n",
    "kafka_df = spark.readStream \\\n",
    "  .format(\"kafka\") \\\n",
    "  .option(\"kafka.bootstrap.servers\", KAFKA_BROKER_URL) \\\n",
    "  .option(\"subscribe\", KAFKA_TOPIC) \\\n",
    "  .option(\"startingOffsets\", \"earliest\") \\\n",
    "  .load()\n"
   ]
  },
  {
   "cell_type": "code",
   "execution_count": 5,
   "id": "dde43975-a1f5-4ad1-88a3-76eb84215f26",
   "metadata": {},
   "outputs": [],
   "source": [
    "# Define schema to parse message to json\n",
    "schema = StructType() \\\n",
    "    .add(\"id\", IntegerType()) \\\n",
    "    .add(\"type\", StringType()) \\\n",
    "    .add(\"comment\", StringType()) \\\n",
    "    .add(\"user\", StringType()) \\\n",
    "    .add(\"title\", StringType()) \\\n",
    "    .add(\"title_url\", StringType())\n",
    "\n",
    "# Transform data to dataframe of json format\n",
    "parsed_df = kafka_df.selectExpr(\"CAST(value AS STRING)\") \\\n",
    "    .select(from_json(col(\"value\"), schema).alias(\"data\")) \\\n",
    "    .select(\"data.*\")\n"
   ]
  },

  {
   "cell_type": "code",
   "execution_count": 6,
   "id": "dde43975-a1f5-4ad1-88a3-76eb84215f2b",
   "metadata": {},
   "outputs": [
    {
     "name": "stderr",
     "output_type": "stream",
     "text": [
      "                                                                                \r"
     ]
    },
    {
     "name": "stdout",
     "output_type": "stream",
     "text": [
      "+------+-----+---+\n",
      "|  Car |Model|Year|\n",
      "+------+-----+---+\n",
      "|   Kia| Niro|2025|\n",
      "|Toyota| Rav4|2019|\n",
      "|   BYD|Atto3|2024|\n",
      "+------+-----+---+\n",
      "\n"
     ]
    }
   ],
   "source": [
    "# Write results to Console\n",
    "parsed_df.writeStream \\\n",
    "    .outputMode("append") \\\n",
    "    .format("console") \\\n",
    "    .start() \\\n",
    "    .awaitTermination()\n"
   ]
  },
  {
   "cell_type": "code",
   "execution_count": 7,
   "id": "096c5a89-058c-488a-9d9e-146fdb6a44dd",
   "metadata": {},
   "outputs": [],
   "source": []
  }
 ],
 "metadata": {
  "kernelspec": {
   "display_name": "Python 3 (ipykernel)",
   "language": "python",
   "name": "python3"
  },
  "language_info": {
   "codemirror_mode": {
    "name": "ipython",
    "version": 3
   },
   "file_extension": ".py",
   "mimetype": "text/x-python",
   "name": "python",
   "nbconvert_exporter": "python",
   "pygments_lexer": "ipython3",
   "version": "3.10.8"
  }
 },
 "nbformat": 4,
 "nbformat_minor": 5
}
