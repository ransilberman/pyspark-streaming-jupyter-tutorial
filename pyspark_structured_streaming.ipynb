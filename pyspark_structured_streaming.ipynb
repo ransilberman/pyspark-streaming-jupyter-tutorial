{
 "cells": [
  {
   "cell_type": "code",
   "execution_count": 1,
   "id": "fe9fd1c0-db30-47b1-bbe2-0b1cbd97a9e2",
   "metadata": {},
   "outputs": [],
   "source": [
    "# Set the PySpark environment variables\n",
    "# Note! Change the SPARK_HOME value to your real pyspark location\n",
    "import os\n",
    "os.environ['SPARK_HOME'] = \"your_pyspark_home\"\n",
    "os.environ['PYSPARK_DRIVER_PYTHON'] = 'jupyter'\n",
    "os.environ['PYSPARK_DRIVER_PYTHON_OPTS'] = 'lab'\n",
    "os.environ['PYSPARK_PYTHON'] = 'python'"
   ]
  },
  {
   "cell_type": "code",
   "execution_count": 2,
   "id": "4a915758-1498-4831-820b-a44fd888e87b",
   "metadata": {},
   "outputs": [],
   "source": [
       "import json\n",
       "import pyspark\n",
       "import socket\n",
       "import threading\n",
       "import time\n",
       "from pyspark.sql import SparkSession\n",
       "from pyspark.sql.functions import col, from_json, expr\n",
       "from pyspark.sql.types import StructType, StringType, IntegerType\n",
       "from pyspark.streaming import StreamingContext\n"
   ]
  },
  {
   "cell_type": "code",
   "execution_count": 3,
   "id": "bb53020b-1e79-4893-a13a-4968fa120fa3",
   "metadata": {},
   "outputs": [
    {
     "name": "stderr",
     "output_type": "stream",
     "text": [
      "Setting default log level to \"WARN\".\n",
      "To adjust logging level use sc.setLogLevel(newLevel). For SparkR, use setLogLevel(newLevel).\n",
      "23/06/25 21:26:04 WARN NativeCodeLoader: Unable to load native-hadoop library for your platform... using builtin-java classes where applicable\n"
     ]
    }
   ],
   "source": [
    "# Create a SparkSession\n",
    "spark = SparkSession.builder \\\n",
    "    .appName(\"PySpark-jupyter-demo\") \\\n",
    "    .getOrCreate()"
   ]
  },
  {
   "cell_type": "code",
   "execution_count": 4,
   "id": "dde43975-a1f5-4ad1-88a3-76eb84215f2b",
   "metadata": {},
   "outputs": [
    {
     "name": "stderr",
     "output_type": "stream",
     "text": [
      "                                                                                \r"
     ]
    },
    {
     "name": "stdout",
     "output_type": "stream",
     "text": [
      "+------+-----+---+\n",
      "|  Car |Model|Year|\n",
      "+------+-----+---+\n",
      "|   Kia| Niro|2025|\n",
      "|Toyota| Rav4|2019|\n",
      "|   BYD|Atto3|2024|\n",
      "+------+-----+---+\n",
      "\n"
     ]
    }
   ],
   "source": [
    "# Test the setup\n",
    "data = [(\"Kia\", \"Niro\", 2025), (\"Toyota\", \"Rav4\", 2019), (\"BYD\", \"Atto3\", 2024)]\n",
    "df = spark.createDataFrame(data, [\"Car\", \"Model\", \"Year\"])\n",
    "df.show()"
   ]
  },
  {
   "cell_type": "code",
   "execution_count": null,
   "id": "096c5a89-058c-488a-9d9e-146fdb6a44dd",
   "metadata": {},
   "outputs": [],
   "source": []
  }
 ],
 "metadata": {
  "kernelspec": {
   "display_name": "Python 3 (ipykernel)",
   "language": "python",
   "name": "python3"
  },
  "language_info": {
   "codemirror_mode": {
    "name": "ipython",
    "version": 3
   },
   "file_extension": ".py",
   "mimetype": "text/x-python",
   "name": "python",
   "nbconvert_exporter": "python",
   "pygments_lexer": "ipython3",
   "version": "3.10.8"
  }
 },
 "nbformat": 4,
 "nbformat_minor": 5
}
