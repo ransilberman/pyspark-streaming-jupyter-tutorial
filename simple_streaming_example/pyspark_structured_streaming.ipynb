{
 "cells": [
  {
   "cell_type": "code",
   "execution_count": 1,
   "id": "fe9fd1c0-db30-47b1-bbe2-0b1cbd97a9e2",
   "metadata": {},
   "outputs": [],
   "source": [
    "# Set the PySpark environment variables\n",
    "import os\n",
    "# Note! Change the SPARK_HOME value to your real pyspark location\n",
    "os.environ['SPARK_HOME'] = \"your_pyspark_home\"\n",
    "os.environ['PYSPARK_DRIVER_PYTHON'] = 'jupyter'\n",
    "os.environ['PYSPARK_DRIVER_PYTHON_OPTS'] = 'lab'\n",
    "os.environ['PYSPARK_PYTHON'] = 'python'\n",
    "os.environ['HADOOP_USER_NAME'] = 'hadoop'\n",
    "\n",
    "# Note! Update PYSPARK_SUBMIT_ARGS value with your pyspark version. in the line below it is \"3.2.0\" \n",
    "os.environ['PYSPARK_SUBMIT_ARGS'] = '--packages org.apache.spark:spark-sql-kafka-0-10_2.12:3.2.0 pyspark-shell'\n",
    "os.environ['SPARK_SUBMIT_OPTS'] = '-Djdk.security.auth.login.Config=ignore'\n",
    "URL = 'https://stream.wikimedia.org/v2/stream/recentchange'\n",
    "\n",
    "KAFKA_BROKER_URL = \"localhost:9092\"\n",
    "KAFKA_TOPIC = \"wikimedia_topic_1\"\n"
   ]
  },
  {
   "cell_type": "code",
   "execution_count": 2,
   "id": "4a915758-1498-4831-820b-a44fd888e87b",
   "metadata": {},
   "outputs": [],
   "source": [
    "import json\n",
    "import pyspark\n",
    "import socket\n",
    "import threading\n",
    "import time\n",
    "from kafka import KafkaConsumer\n",
    "from kafka import KafkaProducer\n",
    "from pyspark.sql import SparkSession\n",
    "from pyspark.sql.functions import col, from_json, expr\n",
    "from pyspark.sql.types import StructType, StringType, IntegerType\n",
    "from pyspark.streaming import StreamingContext\n",
    "from sseclient import SSEClient\n",
    "\n",
    "producer = KafkaProducer(bootstrap_servers=KAFKA_BROKER_URL)\n",
    "\n",
    "def relay():\n",
    "    events = SSEClient(URL)\n",
    "    for i in range(100):\n",
    "        for event in events:\n",
    "            if event.event == 'message' and event.data != None:\n",
    "                message = event.data.encode(\"utf-8\")\n",
    "                producer.send(KAFKA_TOPIC, value=message)\n",
    "                break\n",
    "\n",
    "threading.Thread(target=relay).start()\n"
   ]
  },
  {
   "cell_type": "code",
   "execution_count": 3,
   "id": "bb53020b-1e79-4893-a13a-4968fa120fa3",
   "metadata": {},
   "outputs": [
    {
     "name": "stdout",
     "output_type": "stream",
     "text": [
      ":: loading settings :: url = jar:file:/home/ec2-user/.venv3.9/lib/python3.9/site-packages/pyspark/jars/ivy-2.5.0.jar!/org/apache/ivy/core/settings/ivysettings.xml\n"
     ]
    },
    {
     "name": "stderr",
     "output_type": "stream",
     "text": [
      "Ivy Default Cache set to: /home/ec2-user/.ivy2/cache\n",
      "The jars for the packages stored in: /home/ec2-user/.ivy2/jars\n",
      "org.apache.spark#spark-sql-kafka-0-10_2.12 added as a dependency\n",
      ":: resolving dependencies :: org.apache.spark#spark-submit-parent-6a26bdc9-a316-4db5-a3f2-76abae5d3489;1.0\n",
      "\torg.lz4#lz4-java;1.7.1 from central in [default]\n",
      "\torg.slf4j#slf4j-api;1.7.30 from central in [default]\n",
      "\torg.spark-project.spark#unused;1.0.0 from central in [default]\n",
      "\torg.xerial.snappy#snappy-java;1.1.8.4 from central in [default]\n",
      "\t---------------------------------------------------------------------\n",
      "\t|                  |            modules            ||   artifacts   |\n",
      "\t|       conf       | number| search|dwnlded|evicted|| number|dwnlded|\n",
      "\t---------------------------------------------------------------------\n",
      "\t|      default     |   13  |   0   |   0   |   0   ||   13  |   0   |\n",
      "\t---------------------------------------------------------------------\n",
      ":: retrieving :: org.apache.spark#spark-submit-parent-6a26bdc9-a316-4db5-a3f2-76abae5d3489\n",
      "\tconfs: [default]\n",
      "\t0 artifacts copied, 13 already retrieved (0kB/11ms)\n",
      "25/02/02 08:31:58 WARN NativeCodeLoader: Unable to load native-hadoop library for your platform... using builtin-java classes where applicable\n",
      "Using Spark's default log4j profile: org/apache/spark/log4j-defaults.properties\n",
      "Setting default log level to \"WARN\".\n",
      "To adjust logging level use sc.setLogLevel(newLevel). For SparkR, use setLogLevel(newLevel).\n"
     ]
    }
   ],
   "source": [
    "# Create a SparkSession\n",
    "spark = SparkSession.builder \\\n",
    "    .appName(\"PySpark-jupyter-streaming\") \\\n",
    "    .config(\"spark.sql.streaming.checkpointLocation\", \"./checkpoint\") \\\n",
    "    .getOrCreate()"
   ]
  },
  {
   "cell_type": "code",
   "execution_count": 4,
   "id": "dde43975-a1f5-4ad1-88a3-76eb84215f2b",
   "metadata": {},
   "outputs": [],
   "source": [
    "# Read kafka-stream into Spark\n",
    "# Read \"earliest\" to obtain from the beginning of topic.\n",
    "kafka_df = spark.readStream \\\n",
    "  .format(\"kafka\") \\\n",
    "  .option(\"kafka.bootstrap.servers\", KAFKA_BROKER_URL) \\\n",
    "  .option(\"subscribe\", KAFKA_TOPIC) \\\n",
    "  .option(\"startingOffsets\", \"earliest\") \\\n",
    "  .load()\n"
   ]
  },
  {
   "cell_type": "code",
   "execution_count": 5,
   "id": "dde43975-a1f5-4ad1-88a3-76eb84215f26",
   "metadata": {},
   "outputs": [],
   "source": [
    "# Define schema to parse message to json\n",
    "schema = StructType() \\\n",
    "    .add(\"id\", IntegerType()) \\\n",
    "    .add(\"type\", StringType()) \\\n",
    "    .add(\"comment\", StringType()) \\\n",
    "    .add(\"user\", StringType()) \\\n",
    "    .add(\"title\", StringType()) \\\n",
    "    .add(\"server_name\", StringType())\n",
    "\n",
    "# Transform data to dataframe of json format\n",
    "parsed_df = kafka_df.selectExpr(\"CAST(value AS STRING)\") \\\n",
    "    .select(from_json(col(\"value\"), schema).alias(\"data\")) \\\n",
    "    .select(\"data.*\")\n"
   ]
  },
  {
   "cell_type": "code",
   "execution_count": 6,
   "id": "6d7d94bb",
   "metadata": {},
   "outputs": [
    {
     "name": "stderr",
     "output_type": "stream",
     "text": [
      "25/02/02 08:32:21 WARN ResolveWriteToStream: spark.sql.adaptive.enabled is not supported in streaming DataFrames/Datasets and will be disabled.\n"
     ]
    },
    {
     "data": {
      "text/plain": [
       "<pyspark.sql.streaming.StreamingQuery at 0x7f1dd5eaeee0>"
      ]
     },
     "execution_count": 6,
     "metadata": {},
     "output_type": "execute_result"
    },
    {
     "name": "stderr",
     "output_type": "stream",
     "text": [
      "                                                                                "
     ]
    },
    {
     "name": "stdout",
     "output_type": "stream",
     "text": [
      "-------------------------------------------\n",
      "Batch: 0\n",
      "-------------------------------------------\n",
      "+----------+----------+---------------------+--------------------+------------------------+--------------------+\n",
      "|        id|      type|              comment|                user|                   title|         server_name|\n",
      "+----------+----------+---------------------+--------------------+------------------------+--------------------+\n",
      "|      null|      null|                 null|                null|                    null|                null|\n",
      "| 150606991|      edit| /* Poprawa linku ...|          Eurohunter|    Wikipedia:Prośby ...|    pl.wikipedia.org|\n",
      "|      null|      edit| /* wbsetlabel-add...|               Yxe:h|                Q2036635|    www.wikidata.org|\n",
      "| 318240453|categorize| أضيفت [[:فيرا رين...|             MaraBot|    تصنيف:صفحات تستخد...|    ar.wikipedia.org|\n",
      "|      null|       new| /* wbeditentity-c...|         Mariobanana|              Q132044370|    www.wikidata.org|\n",
      "| 318240454|categorize| أضيفت [[:فيرا رين...|             MaraBot|    تصنيف:صفحات تستخد...|    ar.wikipedia.org|\n",
      "|      null|      edit| /* wbeditentity-u...|      BotMultichillT|    File:Nl-persten o...|commons.wikimedia...|\n",
      "+----------+----------+---------------------+--------------------+------------------------+--------------------+\n",
      "only showing top 20 rows\n",
      "\n"
     ]
    }
   ],
   "source": [
    "# Write results to Console\n",
    "parsed_df.writeStream \\\n",
    "    .outputMode(\"append\") \\\n",
    "    .format(\"console\") \\\n",
    "    .start() \n"
   ]
  },
  {
   "cell_type": "code",
   "execution_count": 7,
   "id": "9020b623",
   "metadata": {},
   "outputs": [
    {
     "name": "stderr",
     "output_type": "stream",
     "text": [
      "25/02/02 08:32:35 WARN ResolveWriteToStream: spark.sql.adaptive.enabled is not supported in streaming DataFrames/Datasets and will be disabled.\n"
     ]
    },
    {
     "data": {
      "text/plain": [
       "<pyspark.sql.streaming.StreamingQuery at 0x7f1dd5ea5580>"
      ]
     },
     "execution_count": 7,
     "metadata": {},
     "output_type": "execute_result"
    },
    {
     "name": "stderr",
     "output_type": "stream",
     "text": [
      "                                                                                "
     ]
    },
    {
     "name": "stdout",
     "output_type": "stream",
     "text": [
      "-------------------------------------------\n",
      "Batch: 0\n",
      "-------------------------------------------\n",
      "+--------------+-----+\n",
      "|          user|count|\n",
      "+--------------+-----+\n",
      "|Marcus.palapar|   16|\n",
      "|       Eskivor|    1|\n",
      "| Robin Chubret|    2|\n",
      "|  PuzzletChung|    1|\n",
      "|        Ghuron|    6|\n",
      "+--------------+-----+\n",
      "only showing top 20 rows\n",
      "\n"
     ]
    }
   ],
   "source": [
    "parsed_df.createOrReplaceTempView(\"parsed_df\")"
    "spark.sql(\"select user, count(*) as count from parsed_df group by user\") \\\n",
    ".writeStream \\\n",
    ".outputMode(\"complete\") \\\n",
    ".format(\"console\") \\\n",
    ".start() \n"
   ]
  },
  {
   "cell_type": "code",
   "execution_count": 8,
   "id": "034a6f1a",
   "metadata": {},
   "outputs": [
    {
     "name": "stderr",
     "output_type": "stream",
     "text": [
      "25/02/02 08:32:51 WARN ResolveWriteToStream: spark.sql.adaptive.enabled is not supported in streaming DataFrames/Datasets and will be disabled.\n"
     ]
    },
    {
     "data": {
      "text/plain": [
       "<pyspark.sql.streaming.StreamingQuery at 0x7f1dd5ea5670>"
      ]
     },
     "execution_count": 8,
     "metadata": {},
     "output_type": "execute_result"
    },
    {
     "name": "stderr",
     "output_type": "stream",
     "text": [
      "                                                                                "
     ]
    },
    {
     "name": "stdout",
     "output_type": "stream",
     "text": [
      "-------------------------------------------\n",
      "Batch: 0\n",
      "-------------------------------------------\n",
      "+----------+-----+\n",
      "|      type|count|\n",
      "+----------+-----+\n",
      "|       new|   16|\n",
      "|       log|   10|\n",
      "|      null|    2|\n",
      "|      edit|  106|\n",
      "|categorize|   66|\n",
      "+----------+-----+\n",
      "\n"
     ]
    }
   ],
   "source": [
    "spark.sql(\"select type, count(*) as count from parsed_df group by type\") \\\n",
    ".writeStream \\\n",
    ".outputMode(\"complete\") \\\n",
    ".format(\"console\") \\\n",
    ".start() \n"
   ]
  },
  {
   "cell_type": "code",
   "execution_count": null,
   "id": "096c5a89-058c-488a-9d9e-146fdb6a44dd",
   "metadata": {},
   "outputs": [],
   "source": []
  }
 ],
 "metadata": {
  "kernelspec": {
   "display_name": "Python 3 (ipykernel)",
   "language": "python",
   "name": "python3"
  },
  "language_info": {
   "codemirror_mode": {
    "name": "ipython",
    "version": 3
   },
   "file_extension": ".py",
   "mimetype": "text/x-python",
   "name": "python",
   "nbconvert_exporter": "python",
   "pygments_lexer": "ipython3",
   "version": "3.9.20"
  }
 },
 "nbformat": 4,
 "nbformat_minor": 5
}
