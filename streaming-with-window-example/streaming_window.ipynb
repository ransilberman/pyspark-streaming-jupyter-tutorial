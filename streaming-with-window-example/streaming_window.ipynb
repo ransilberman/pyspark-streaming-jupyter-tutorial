{
 "cells": [
  {
   "cell_type": "code",
   "execution_count": null,
   "id": "8fdefdad-8f41-420c-8f1c-295ecbbd5dc0",
   "metadata": {},
   "outputs": [],
   "source": [
    "# Set the PySpark environment variables\n",
    "import os\n",
    "# Note! Change the SPARK_HOME value to your real pyspark location\n",
    "os.environ['SPARK_HOME'] = \"/Users/ran/pyspark/.venv/lib/python3.11/site-packages/pyspark/\"\n",
    "os.environ['PYSPARK_DRIVER_PYTHON'] = 'jupyter'\n",
    "os.environ['PYSPARK_DRIVER_PYTHON_OPTS'] = 'lab'\n",
    "os.environ['PYSPARK_PYTHON'] = 'python'\n",
    "\n",
    "# Note! Update PYSPARK_SUBMIT_ARGS value with your pyspark version. in the line below it is \"3.5.4\" \n",
    "os.environ['PYSPARK_SUBMIT_ARGS'] = '--packages org.apache.spark:spark-sql-kafka-0-10_2.12:3.5.4 pyspark-shell'\n",
    "URL = 'https://stream.wikimedia.org/v2/stream/recentchange'\n",
    "\n",
    "KAFKA_BROKER_URL = \"localhost:9092\"\n",
    "KAFKA_TOPIC = \"wikimedia_topic_window_1\""
   ]
  },
  {
   "cell_type": "code",
   "execution_count": null,
   "id": "05d995c0-2e3a-4c9e-8b4b-5be664261807",
   "metadata": {},
   "outputs": [],
   "source": [
    "import json\n",
    "import pyspark\n",
    "import time\n",
    "from kafka import KafkaConsumer\n",
    "from pyspark.sql import SparkSession\n",
    "from pyspark.sql.functions import col, from_json, expr\n",
    "from pyspark.sql.types import StructType, StringType, IntegerType, TimestampType\n",
    "from pyspark.streaming import StreamingContext\n",
    "from sseclient import SSEClient"
   ]
  },
  {
   "cell_type": "code",
   "execution_count": null,
   "id": "d4145e72-195e-4b5f-a8ab-02d6aa4e45d3",
   "metadata": {},
   "outputs": [],
   "source": [
    "# Create a SparkSession\n",
    "spark = SparkSession.builder \\\n",
    "    .appName(\"PySpark-streaming-with-window\") \\\n",
    "    .config(\"spark.sql.streaming.checkpointLocation\", \"./checkpoint\") \\\n",
    "    .getOrCreate()"
   ]
  },
  {
   "cell_type": "code",
   "execution_count": null,
   "id": "10061c55-0057-4992-8dbb-117c44778c09",
   "metadata": {},
   "outputs": [],
   "source": [
    "# Read kafka-stream into Spark\n",
    "# Read \"earliest\" to obtain from the beginning of topic.\n",
    "kafka_df = spark.readStream \\\n",
    "  .format(\"kafka\") \\\n",
    "  .option(\"kafka.bootstrap.servers\", KAFKA_BROKER_URL) \\\n",
    "  .option(\"subscribe\", KAFKA_TOPIC) \\\n",
    "  .option(\"startingOffsets\", \"latest\") \\\n",
    "  .load()"
   ]
  },
  {
   "cell_type": "code",
   "execution_count": null,
   "id": "fd1e5101-4534-4995-9383-bae0dd15b176",
   "metadata": {},
   "outputs": [],
   "source": [
    "# Define schema to parse message to json\n",
    "schema = StructType() \\\n",
    "    .add(\"id\", IntegerType()) \\\n",
    "    .add(\"type\", StringType()) \\\n",
    "    .add(\"comment\", StringType()) \\\n",
    "    .add(\"user\", StringType()) \\\n",
    "    .add(\"title\", StringType()) \\\n",
    "    .add(\"meta\", StructType().add(\"dt\", StringType())) \\\n",
    "    .add(\"server_name\", StringType())\n",
    "\n",
    "# Transform data to dataframe of json format\n",
    "parsed_df = kafka_df.selectExpr(\"CAST(value AS STRING)\") \\\n",
    "    .select(from_json(col(\"value\"), schema).alias(\"data\")) \\\n",
    "    .select(\"data.*\")"
   ]
  },
  {
   "cell_type": "code",
   "execution_count": null,
   "id": "2e7e8507-d7bb-4ce1-8ef0-f9822cf89d68",
   "metadata": {},
   "outputs": [],
   "source": [
    "# Add event_time column to DataFrame\n",
    "parsed_df = parsed_df.withColumn(\"event_time\", col(\"meta.dt\").cast(TimestampType()))"
   ]
  },
  {
   "cell_type": "code",
   "execution_count": null,
   "id": "d499be44-3fd2-4ed0-8a67-d1ba6244b7ae",
   "metadata": {},
   "outputs": [],
   "source": [
    "from pyspark.sql.functions import window\n",
    "\n",
    "windowedCounts_df = parsed_df.groupBy(\n",
    "    window(col(\"event_time\"), \"2 minutes\", \"1 minute\")\n",
    ").count()"
   ]
  },
  {
   "cell_type": "code",
   "execution_count": null,
   "id": "b5383b07-48ee-4134-aa50-09c76bf8affa",
   "metadata": {},
   "outputs": [],
   "source": [
    "# Write Output to Console\n",
    "windowedCounts_df.writeStream \\\n",
    "    .outputMode(\"complete\") \\\n",
    "    .format(\"console\") \\\n",
    "    .start() \\\n",
    "    .awaitTermination()"
   ]
  },
  {
   "cell_type": "code",
   "execution_count": null,
   "id": "78d93343-84f9-4483-acb3-d5c880daa6f7",
   "metadata": {},
   "outputs": [],
   "source": []
  }
 ],
 "metadata": {
  "kernelspec": {
   "display_name": "Python 3 (ipykernel)",
   "language": "python",
   "name": "python3"
  },
  "language_info": {
   "codemirror_mode": {
    "name": "ipython",
    "version": 3
   },
   "file_extension": ".py",
   "mimetype": "text/x-python",
   "name": "python",
   "nbconvert_exporter": "python",
   "pygments_lexer": "ipython3",
   "version": "3.11.2"
  }
 },
 "nbformat": 4,
 "nbformat_minor": 5
}
